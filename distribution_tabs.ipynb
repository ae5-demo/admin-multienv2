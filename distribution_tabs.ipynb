{
 "cells": [
  {
   "cell_type": "code",
   "execution_count": null,
   "metadata": {},
   "outputs": [],
   "source": [
    "import panel as pn\n",
    "import numpy as np\n",
    "import holoviews as hv\n",
    "# import matplotlib.pyplot as plt\n",
    "pn.extension()"
   ]
  },
  {
   "cell_type": "markdown",
   "metadata": {},
   "source": [
    "This example demonstrates how to plot several different types of outputs in a ``Tabs`` Panel, using a reactive function that depends on some widget state to update the tab contents whenever one of the dependencies changes."
   ]
  },
  {
   "cell_type": "code",
   "execution_count": null,
   "metadata": {},
   "outputs": [],
   "source": [
    "distributions = {\n",
    "    'normal': np.random.normal,\n",
    "    'uniform': np.random.uniform,\n",
    "    'log-normal': np.random.lognormal,\n",
    "    'exponential': np.random.exponential\n",
    "}\n",
    "\n",
    "checkboxes = pn.widgets.ToggleGroup(options=distributions, behavior='radio')\n",
    "slider = pn.widgets.IntSlider(name='Number of observations', value=500, start=0, end=2000)\n",
    "\n",
    "@pn.depends(checkboxes.param.value, slider.param.value)\n",
    "def tabs(distribution, n):\n",
    "    values = hv.Dataset(distribution(size=n), 'values')\n",
    "    return pn.Tabs(\n",
    "        ('Plot', values.hist(adjoin=False).opts(\n",
    "            responsive=True, max_height=500, padding=0.1)),\n",
    "        ('Summary', values.dframe().describe().T),\n",
    "        ('Table', hv.Table(values)),\n",
    "    )\n",
    "\n",
    "pn.Row(pn.Column('### Distribution Type', checkboxes, slider), tabs).servable()"
   ]
  },
  {
   "cell_type": "code",
   "execution_count": null,
   "metadata": {},
   "outputs": [],
   "source": []
  }
 ],
 "metadata": {
  "kernelspec": {
   "display_name": "37",
   "language": "python",
   "name": "anaconda-project-anaconda201908_py37-python3"
  },
  "language_info": {
   "codemirror_mode": {
    "name": "ipython",
    "version": 3
   },
   "file_extension": ".py",
   "mimetype": "text/x-python",
   "name": "python",
   "nbconvert_exporter": "python",
   "pygments_lexer": "ipython3",
   "version": "3.7.4"
  }
 },
 "nbformat": 4,
 "nbformat_minor": 2
}
