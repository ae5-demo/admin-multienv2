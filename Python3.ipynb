{
 "cells": [
  {
   "cell_type": "code",
   "execution_count": 1,
   "metadata": {},
   "outputs": [
    {
     "name": "stdout",
     "output_type": "stream",
     "text": [
      "/opt/continuum/anaconda/envs/py36/bin/python\n"
     ]
    }
   ],
   "source": [
    "!which python"
   ]
  },
  {
   "cell_type": "code",
   "execution_count": 2,
   "metadata": {},
   "outputs": [
    {
     "name": "stdout",
     "output_type": "stream",
     "text": [
      "Available kernels:\n",
      "  python3    /opt/continuum/anaconda/envs/py36/share/jupyter/kernels/python3\n"
     ]
    }
   ],
   "source": [
    "!jupyter kernelspec list "
   ]
  },
  {
   "cell_type": "code",
   "execution_count": 2,
   "metadata": {},
   "outputs": [
    {
     "name": "stdout",
     "output_type": "stream",
     "text": [
      "# conda environments:\n",
      "#\n",
      "base                     /opt/continuum/anaconda\n",
      "Julia                    /opt/continuum/anaconda/envs/Julia\n",
      "anaconda201908_py37      /opt/continuum/anaconda/envs/anaconda201908_py37\n",
      "anaconda44_py27          /opt/continuum/anaconda/envs/anaconda44_py27\n",
      "anaconda44_py35          /opt/continuum/anaconda/envs/anaconda44_py35\n",
      "anaconda44_py36          /opt/continuum/anaconda/envs/anaconda44_py36\n",
      "anaconda44_r             /opt/continuum/anaconda/envs/anaconda44_r\n",
      "anaconda50_hadoop        /opt/continuum/anaconda/envs/anaconda50_hadoop\n",
      "anaconda50_impyla        /opt/continuum/anaconda/envs/anaconda50_impyla\n",
      "anaconda50_py27          /opt/continuum/anaconda/envs/anaconda50_py27\n",
      "anaconda50_py35          /opt/continuum/anaconda/envs/anaconda50_py35\n",
      "anaconda50_py36          /opt/continuum/anaconda/envs/anaconda50_py36\n",
      "anaconda50_sas           /opt/continuum/anaconda/envs/anaconda50_sas\n",
      "lab_launch               /opt/continuum/anaconda/envs/lab_launch\n",
      "py27                     /opt/continuum/anaconda/envs/py27\n",
      "py36                  *  /opt/continuum/anaconda/envs/py36\n",
      "py37                     /opt/continuum/anaconda/envs/py37\n",
      "sync_launch              /opt/continuum/anaconda/envs/sync_launch\n",
      "\n"
     ]
    }
   ],
   "source": [
    "!conda env list"
   ]
  },
  {
   "cell_type": "code",
   "execution_count": null,
   "metadata": {},
   "outputs": [],
   "source": []
  }
 ],
 "metadata": {
  "kernelspec": {
   "display_name": "py36",
   "language": "python",
   "name": "anaconda-project-py36-python3"
  },
  "language_info": {
   "codemirror_mode": {
    "name": "ipython",
    "version": 3
   },
   "file_extension": ".py",
   "mimetype": "text/x-python",
   "name": "python",
   "nbconvert_exporter": "python",
   "pygments_lexer": "ipython3",
   "version": "3.6.3"
  }
 },
 "nbformat": 4,
 "nbformat_minor": 2
}
