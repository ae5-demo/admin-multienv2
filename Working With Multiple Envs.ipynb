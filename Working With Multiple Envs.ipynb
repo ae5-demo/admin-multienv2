{
 "cells": [
  {
   "cell_type": "markdown",
   "metadata": {},
   "source": [
    "# Working in AE5 with Multiple Envs\n",
    "## Basics\n",
    "- Anaconda enterprise launches a pod with 4 containers:\n",
    "  - two with the editor image, one for the actual editor the other for synching repo\n",
    "  - two with proxy image, one for each of the above\n",
    "- the ae-editor image, is huge in docker terms, it is the current mechnisim we adopted to deliver the pre-canned environments to all the cluster node (this will be handled by the container runtime and will be cached on all hosts, if configured with high performence storage, that will provide better perormence.\n",
    "- the canned environments are:"
   ]
  },
  {
   "cell_type": "code",
   "execution_count": 9,
   "metadata": {},
   "outputs": [
    {
     "name": "stdout",
     "output_type": "stream",
     "text": [
      "base\n",
      "anaconda201908_py37\n",
      "anaconda44_py27\n",
      "anaconda44_py35\n",
      "anaconda44_py36\n",
      "anaconda44_r\n",
      "anaconda50_hadoop\n",
      "anaconda50_impyla\n",
      "anaconda50_py27\n",
      "anaconda50_py35\n",
      "anaconda50_py36\n",
      "anaconda50_sas\n",
      "lab_launch\n",
      "py36\n",
      "sync_launch\n",
      "\n"
     ]
    }
   ],
   "source": [
    "!conda env list | awk '!/#/ {print $1}'"
   ]
  },
  {
   "cell_type": "markdown",
   "metadata": {},
   "source": [
    "The official environments for 5.4.0 are as follow...\n",
    "**anaconda201908_py37** - this should probably be used for most cases     \n",
    "anaconda44_py27          \n",
    "anaconda44_py35         \n",
    "anaconda44_py36          \n",
    "anaconda44_r             \n",
    "anaconda50_hadoop        \n",
    "anaconda50_impyla       \n",
    "anaconda50_py27          \n",
    "anaconda50_py35         \n",
    "anaconda50_py36         \n",
    "anaconda50_sas          \n",
    "\n",
    "- environments used by AE5 - not for developing projects\n",
    "base               \n",
    "lab_launch                              \n",
    "sync_launch    "
   ]
  },
  {
   "cell_type": "markdown",
   "metadata": {},
   "source": [
    "- base is where conda is installed\n",
    "- lab_launch is where the editor environment is installed (Jupyter notebook/lab zeppelin, etc...) as well as all the anaconda-project and other supporting tools for preparing the session.\n",
    "- base is in base /opt/continuum/anaconda \n",
    "- all other envs are /opt/continuum/anaconda/envs/<env-name>\n",
    "- lab_launch has many binaries linked from base (like conda)"
   ]
  },
  {
   "cell_type": "markdown",
   "metadata": {},
   "source": [
    "ANACONDA_PROJECT_ENVS_PATH is set so that new environment created by anaconda-project are created there, and not where the command is executed"
   ]
  },
  {
   "cell_type": "code",
   "execution_count": 2,
   "metadata": {},
   "outputs": [
    {
     "name": "stdout",
     "output_type": "stream",
     "text": [
      "ANACONDA_PROJECT_ENVS_PATH=/opt/continuum/anaconda/envs\n"
     ]
    }
   ],
   "source": [
    "!env | grep ANACONDA_PROJECT_ENVS_PATH"
   ]
  },
  {
   "cell_type": "code",
   "execution_count": null,
   "metadata": {},
   "outputs": [],
   "source": [
    "!conda env list"
   ]
  },
  {
   "cell_type": "markdown",
   "metadata": {},
   "source": [
    "When a session is launched, the first thing that will happen is the first environment is being prepared. The environments and their pakages are listed in anaconda-project.yml and you can have a many as you like. However they will not be prepared (only the first will)."
   ]
  },
  {
   "cell_type": "markdown",
   "metadata": {},
   "source": [
    "You can prepare the environment from the command line with anaconda-project prepare --env-spec and the name of the env. or you could update anaconda-project to the latest version and prepare all environments with --all. In either case you have to do that from the terminal and from the lab_launch environment (not from the notebook).\n",
    "An easy way to simplify this, is to include a standard set of scripts in your project that can simplify tasks this - like I have here in *scripts/prep.sh*"
   ]
  },
  {
   "cell_type": "markdown",
   "metadata": {},
   "source": [
    "```\n",
    "conda update anaconda-project -y && anaconda-project prepare --all\n",
    "```"
   ]
  },
  {
   "cell_type": "markdown",
   "metadata": {},
   "source": [
    "Notice that if you include envspec in anaconda-project yaml with no packages - as in ```anaconda201908_py37: {}``` for example, since this is one of the prebuilt environment, the startup time will be very fast. you can then add packages to the env if they are missing. If you specify the exact version you would like the preperation will be faster."
   ]
  },
  {
   "cell_type": "markdown",
   "metadata": {},
   "source": [
    "With multiple environment in anaconda-project.yml and with the environments prepared, you can click on any of the preparation ticks in the ***Project tab*** and that will add and register those environments in jupyter lab (added as kernels and configured in launcher). Note that this step is mandathey will not appear without this step.\n"
   ]
  },
  {
   "cell_type": "markdown",
   "metadata": {},
   "source": [
    "Next you may notice that the launcher does not select meaningful names for the kernels being used, you can rename the kernels to the environment name. I do this with a small function in **scripts/prep.sh** you can take a look at that to see how that works, the Project jupyter_lab extension registers and configuer launchers using all the kernelspecs it finds in the prepared environments (only the anaconda-project.yml ones). it also configures a terminal with the specific environment ac"
   ]
  }
 ],
 "metadata": {
  "kernelspec": {
   "display_name": "Python 3",
   "language": "python",
   "name": "anaconda-project-anaconda201908_py37-python3"
  },
  "language_info": {
   "codemirror_mode": {
    "name": "ipython",
    "version": 3
   },
   "file_extension": ".py",
   "mimetype": "text/x-python",
   "name": "python",
   "nbconvert_exporter": "python",
   "pygments_lexer": "ipython3",
   "version": "3.7.4"
  }
 },
 "nbformat": 4,
 "nbformat_minor": 2
}
