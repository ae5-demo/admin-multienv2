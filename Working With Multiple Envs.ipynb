{
 "cells": [
  {
   "cell_type": "markdown",
   "metadata": {},
   "source": [
    "# Working in AE5 with Multiple Envs\n",
    "## Basics\n",
    "- Anaconda enterprise launches a pod with 4 containers:\n",
    "  - two with the editor image, one for the actual editor the other for synching repo\n",
    "  - two with proxy image, one for each above\n",
    "- the ae-editor image, is huge in docker terms, it is the current mechnisim we adopted to deliver the pre-canned environments to all the cluster node (this will be handled by the container runtime and will be cached on all hosts, if configured with high performence storage, that will provide better perormence.\n",
    "- the canned environments are:"
   ]
  },
  {
   "cell_type": "code",
   "execution_count": 9,
   "metadata": {},
   "outputs": [
    {
     "name": "stdout",
     "output_type": "stream",
     "text": [
      "base\n",
      "anaconda201908_py37\n",
      "anaconda44_py27\n",
      "anaconda44_py35\n",
      "anaconda44_py36\n",
      "anaconda44_r\n",
      "anaconda50_hadoop\n",
      "anaconda50_impyla\n",
      "anaconda50_py27\n",
      "anaconda50_py35\n",
      "anaconda50_py36\n",
      "anaconda50_sas\n",
      "lab_launch\n",
      "py36\n",
      "sync_launch\n",
      "\n"
     ]
    }
   ],
   "source": [
    "!conda env list | awk '!/#/ {print $1}'"
   ]
  },
  {
   "cell_type": "markdown",
   "metadata": {},
   "source": [
    "base                  \n",
    "anaconda201908_py37     \n",
    "anaconda44_py27          \n",
    "anaconda44_py35         \n",
    "anaconda44_py36          \n",
    "anaconda44_r             \n",
    "anaconda50_hadoop        \n",
    "anaconda50_impyla       \n",
    "anaconda50_py27          \n",
    "anaconda50_py35         \n",
    "anaconda50_py36         \n",
    "anaconda50_sas          \n",
    "lab_launch             \n",
    "py36                   \n",
    "sync_launch    "
   ]
  },
  {
   "cell_type": "markdown",
   "metadata": {},
   "source": [
    "- base is where conda is installed\n",
    "- lab_launch is where the editor environment is installed (Jupyter notebook/lab zeppelin, etc...) as well as all the anaconda-project and other supporting tools for preparing the session.\n",
    "- base is in base /opt/continuum/anaconda \n",
    "- all other envs are /opt/continuum/anaconda/envs/<env-name>\n",
    "- lab_launch has many binaries linked from base (like conda)"
   ]
  },
  {
   "cell_type": "markdown",
   "metadata": {},
   "source": [
    "ANACONDA_PROJECT_ENVS_PATH is set so that new environment created by anaconda-project are created there, and not where the command is executed"
   ]
  },
  {
   "cell_type": "code",
   "execution_count": 2,
   "metadata": {},
   "outputs": [
    {
     "name": "stdout",
     "output_type": "stream",
     "text": [
      "ANACONDA_PROJECT_ENVS_PATH=/opt/continuum/anaconda/envs\n"
     ]
    }
   ],
   "source": [
    "!env | grep ANACONDA_PROJECT_ENVS_PATH"
   ]
  },
  {
   "cell_type": "code",
   "execution_count": null,
   "metadata": {},
   "outputs": [],
   "source": [
    "!conda env list"
   ]
  }
 ],
 "metadata": {
  "kernelspec": {
   "display_name": "37std",
   "language": "python",
   "name": "anaconda-project-anaconda201908_py37-python3"
  },
  "language_info": {
   "codemirror_mode": {
    "name": "ipython",
    "version": 3
   },
   "file_extension": ".py",
   "mimetype": "text/x-python",
   "name": "python",
   "nbconvert_exporter": "python",
   "pygments_lexer": "ipython3",
   "version": "3.7.4"
  }
 },
 "nbformat": 4,
 "nbformat_minor": 2
}
